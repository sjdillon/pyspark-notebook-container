{
 "cells": [
  {
   "cell_type": "markdown",
   "id": "c6a28123",
   "metadata": {},
   "source": [
    "# pyspark in a container\n",
    "\n",
    "original [article](https://levelup.gitconnected.com/using-docker-and-pyspark-134cd4cab867)\n",
    "\n",
    "- the only thing this adds is docker-compose to make it easy to access the data file"
   ]
  },
  {
   "cell_type": "markdown",
   "id": "f1c04e12",
   "metadata": {},
   "source": [
    "# install some packages"
   ]
  },
  {
   "cell_type": "code",
   "execution_count": 1,
   "id": "3afcc3c1",
   "metadata": {
    "scrolled": false
   },
   "outputs": [
    {
     "name": "stdout",
     "output_type": "stream",
     "text": [
      "Requirement already satisfied: pandas in /opt/conda/lib/python3.9/site-packages (1.2.4)\n",
      "Requirement already satisfied: numpy in /opt/conda/lib/python3.9/site-packages (1.20.2)\n",
      "Requirement already satisfied: matplotlib in /opt/conda/lib/python3.9/site-packages (3.4.1)\n",
      "Requirement already satisfied: pyspark in /usr/local/spark-3.1.1-bin-hadoop3.2/python (3.1.1)\n",
      "Requirement already satisfied: python-dateutil>=2.7.3 in /opt/conda/lib/python3.9/site-packages (from pandas) (2.8.1)\n",
      "Requirement already satisfied: pytz>=2017.3 in /opt/conda/lib/python3.9/site-packages (from pandas) (2021.1)\n",
      "Requirement already satisfied: six>=1.5 in /opt/conda/lib/python3.9/site-packages (from python-dateutil>=2.7.3->pandas) (1.16.0)\n",
      "Requirement already satisfied: kiwisolver>=1.0.1 in /opt/conda/lib/python3.9/site-packages (from matplotlib) (1.3.1)\n",
      "Requirement already satisfied: pyparsing>=2.2.1 in /opt/conda/lib/python3.9/site-packages (from matplotlib) (2.4.7)\n",
      "Requirement already satisfied: pillow>=6.2.0 in /opt/conda/lib/python3.9/site-packages (from matplotlib) (8.1.2)\n",
      "Requirement already satisfied: cycler>=0.10 in /opt/conda/lib/python3.9/site-packages (from matplotlib) (0.10.0)\n",
      "Requirement already satisfied: py4j==0.10.9 in /opt/conda/lib/python3.9/site-packages (from pyspark) (0.10.9)\n",
      "Note: you may need to restart the kernel to use updated packages.\n"
     ]
    }
   ],
   "source": [
    "pip install pandas numpy matplotlib pyspark"
   ]
  },
  {
   "cell_type": "markdown",
   "id": "6eee30dd",
   "metadata": {},
   "source": [
    "# unzip the data"
   ]
  },
  {
   "cell_type": "code",
   "execution_count": 2,
   "id": "2665b609",
   "metadata": {},
   "outputs": [
    {
     "name": "stdout",
     "output_type": "stream",
     "text": [
      "Archive:  data.zip\n",
      "  inflating: Vermont_Vendor_Payments.csv  \n"
     ]
    }
   ],
   "source": [
    "!unzip data.zip"
   ]
  },
  {
   "cell_type": "markdown",
   "id": "d8ba1d0f",
   "metadata": {},
   "source": [
    "# do some stuff with pyspark\n",
    "- the rest is mostly from the [article](https://levelup.gitconnected.com/using-docker-and-pyspark-134cd4cab867)"
   ]
  },
  {
   "cell_type": "code",
   "execution_count": 3,
   "id": "99e241a2",
   "metadata": {},
   "outputs": [],
   "source": [
    "import pandas as pd \n",
    "import numpy\n",
    "import matplotlib.pyplot as plt \n",
    "from pyspark.sql import SparkSession\n",
    "\n",
    "spark = SparkSession \\\n",
    "    .builder \\\n",
    "    .appName(\"Pysparkexample\") \\\n",
    "    .config(\"spark.some.config.option\", \"some-value\") \\\n",
    "    .getOrCreate()"
   ]
  },
  {
   "cell_type": "code",
   "execution_count": 4,
   "id": "6b8c2bc4",
   "metadata": {},
   "outputs": [
    {
     "data": {
      "text/html": [
       "\n",
       "            <div>\n",
       "                <p><b>SparkSession - in-memory</b></p>\n",
       "                \n",
       "        <div>\n",
       "            <p><b>SparkContext</b></p>\n",
       "\n",
       "            <p><a href=\"http://de016e8e9158:4040\">Spark UI</a></p>\n",
       "\n",
       "            <dl>\n",
       "              <dt>Version</dt>\n",
       "                <dd><code>v3.1.1</code></dd>\n",
       "              <dt>Master</dt>\n",
       "                <dd><code>local[*]</code></dd>\n",
       "              <dt>AppName</dt>\n",
       "                <dd><code>Pysparkexample</code></dd>\n",
       "            </dl>\n",
       "        </div>\n",
       "        \n",
       "            </div>\n",
       "        "
      ],
      "text/plain": [
       "<pyspark.sql.session.SparkSession at 0x7efbcd4e8be0>"
      ]
     },
     "execution_count": 4,
     "metadata": {},
     "output_type": "execute_result"
    }
   ],
   "source": [
    "spark"
   ]
  },
  {
   "cell_type": "code",
   "execution_count": 5,
   "id": "07b60224",
   "metadata": {},
   "outputs": [],
   "source": [
    "df = spark.read.csv('Vermont_Vendor_Payments.csv', header='true', inferSchema = True)\n",
    "df = df.withColumn(\"Amount\", df[\"Amount\"].cast(\"double\"))"
   ]
  },
  {
   "cell_type": "code",
   "execution_count": 6,
   "id": "6908a295",
   "metadata": {
    "scrolled": true
   },
   "outputs": [
    {
     "data": {
      "text/plain": [
       "DataFrame[Quarter Ending: string, Department: string, UnitNo: int, Vendor Number: string, Vendor: string, City: string, State: string, DeptID Description: string, DeptID: string, Amount: double, Account: string, AcctNo: string, Fund Description: string, Fund: string]"
      ]
     },
     "execution_count": 6,
     "metadata": {},
     "output_type": "execute_result"
    }
   ],
   "source": [
    "df"
   ]
  },
  {
   "cell_type": "code",
   "execution_count": 7,
   "id": "c91f6901",
   "metadata": {},
   "outputs": [
    {
     "name": "stdout",
     "output_type": "stream",
     "text": [
      "The column Names are:\n",
      "Quarter Ending\n",
      "Department\n",
      "UnitNo\n",
      "Vendor Number\n",
      "Vendor\n",
      "City\n",
      "State\n",
      "DeptID Description\n",
      "DeptID\n",
      "Amount\n",
      "Account\n",
      "AcctNo\n",
      "Fund Description\n",
      "Fund\n"
     ]
    }
   ],
   "source": [
    "columns = df.columns\n",
    "print('The column Names are:')\n",
    "for i in columns:\n",
    "    print(i)"
   ]
  },
  {
   "cell_type": "code",
   "execution_count": 8,
   "id": "97cd0b14",
   "metadata": {},
   "outputs": [
    {
     "name": "stdout",
     "output_type": "stream",
     "text": [
      "The total number of rows is: 1714538 \n",
      "The total number of columns is: 14\n"
     ]
    }
   ],
   "source": [
    "print('The total number of rows is:', df.count(), '\\nThe total number of columns is:', len(df.columns))"
   ]
  },
  {
   "cell_type": "code",
   "execution_count": 9,
   "id": "28f1fe65",
   "metadata": {},
   "outputs": [
    {
     "name": "stdout",
     "output_type": "stream",
     "text": [
      "+--------------+--------------------+------+-------------+--------------------+------------+-----+--------------------+----------+---------+--------------------+------+--------------------+-----+\n",
      "|Quarter Ending|          Department|UnitNo|Vendor Number|              Vendor|        City|State|  DeptID Description|    DeptID|   Amount|             Account|AcctNo|    Fund Description| Fund|\n",
      "+--------------+--------------------+------+-------------+--------------------+------------+-----+--------------------+----------+---------+--------------------+------+--------------------+-----+\n",
      "|    12/31/2019|Vt Housing & Cons...|  9150|   0000002188|Vermont Housing &...|  Montpelier|   VT|               Trust|9150120000|1075000.0|Transfer Out - Co...|720010|Housing & Conserv...|90610|\n",
      "|    12/31/2019|Vt Housing & Cons...|  9150|   0000375660|Wagner Developmen...| Brattleboro|   VT|             VT REDI|9150293000|   4612.5|Other Direct Gran...|552990|Housing & Conserv...|90610|\n",
      "|    12/31/2019|Vt Housing & Cons...|  9150|   0000043371|Vermont Land Trus...|  Montpelier|   VT|               Trust|9150120000|112916.67|Other Direct Gran...|552990|Housing & Conserv...|90610|\n",
      "|    12/31/2019|Vt Housing & Cons...|  9150|   0000042844|University of Ver...|  Burlington|   VT| Farm Viability-VHCB|9150255000| 17152.74|Other Direct Gran...|552990|Housing & Conserv...|90610|\n",
      "|    12/31/2019|Vt Housing & Cons...|  9150|   0000160536|Lahar Stephanie &...|  Montpelier|   VT| Farm Viability-VHCB|9150255000|   4850.0|Other Direct Gran...|552990|Housing & Conserv...|90610|\n",
      "|    12/31/2019|Vt Housing & Cons...|  9150|   0000005293|Northern Communit...|St Johnsbury|   VT|             VT REDI|9150293000|   1755.0|Other Direct Gran...|552990|Housing & Conserv...|90610|\n",
      "|    12/31/2019|Vt Housing & Cons...|  9150|   0000055377|Intervale Center Inc|  Burlington|   VT|          USDA BFRDP|9150288000| 26837.54|Other Direct Gran...|552990| Federal Fund - VHCB|90630|\n",
      "|    12/31/2019|Vt Housing & Cons...|  9150|   0000055377|Intervale Center Inc|  Burlington|   VT| Farm Viability-VHCB|9150255000| 30396.35|Other Direct Gran...|552990|Housing & Conserv...|90610|\n",
      "|    12/31/2019|Vt Housing & Cons...|  9150|   0000055377|Intervale Center Inc|  Burlington|   VT|FFVP No. Borders ...|9150279000|  5430.17|Other Direct Gran...|552990| Federal Fund - VHCB|90630|\n",
      "|    12/31/2019|Vt Housing & Cons...|  9150|   0000274675|Green Mountain Fa...|     Newport|   VT| Farm Viability-VHCB|9150255000|   1000.0|Other Direct Gran...|552990|Housing & Conserv...|90610|\n",
      "|    12/31/2019|Vt Housing & Cons...|  9150|   0000380660| Community Roots LLC|   Hinesburg|   VT|          USDA BFRDP|9150288000|    787.5|Other Direct Gran...|552990| Federal Fund - VHCB|90630|\n",
      "|    12/31/2019|Vt Housing & Cons...|  9150|   0000256521|Center for an Agr...|    Hardwick|   VT| Farm Viability-VHCB|9150255000|  1233.32|Other Direct Gran...|552990|Housing & Conserv...|90610|\n",
      "|    12/31/2019|Vt Housing & Cons...|  9150|   0000003330|Windham & Windsor...| Brattleboro|   VT|National Housing ...|9150350000| 82819.24|               Loans|550240| Federal Fund - VHCB|90630|\n",
      "|    12/31/2019|Vt Housing & Cons...|  9150|   0000003330|Windham & Windsor...| Brattleboro|   VT|                HOME|9150310000| 88205.25|               Loans|550240| Federal Fund - VHCB|90630|\n",
      "|    12/31/2019|Vt Housing & Cons...|  9150|   0000002234|Vermont River Con...|  Montpelier|   VT|               Trust|9150120000| 116250.0|               Loans|550240|Housing & Conserv...|90610|\n",
      "|    12/31/2019|Vt Housing & Cons...|  9150|   0000356549|Westview Terrace ...| Springfield|   VT|Housing Taxable R...|9150200100|507006.91|               Loans|550240|Housing & Conserv...|90610|\n",
      "|    12/31/2019|Vt Housing & Cons...|  9150|   0000005660|Shires Housing, Inc.|  Bennington|   VT|Housing Taxable R...|9150200100| 98468.58|               Loans|550240|Housing & Conserv...|90610|\n",
      "|    12/31/2019|Vt Housing & Cons...|  9150|   0000004707|Housing Trust of ...|     Rutland|   VT|National Housing ...|9150350000|287636.15|               Loans|550240| Federal Fund - VHCB|90630|\n",
      "|    12/31/2019|Vt Housing & Cons...|  9150|   0000004707|Housing Trust of ...|     Rutland|   VT|                HOME|9150310000| 62936.47|               Loans|550240| Federal Fund - VHCB|90630|\n",
      "|    12/31/2019|Vt Housing & Cons...|  9150|   0000006634|Heritage Environm...|  Burlington|   VT|      Lead Abatement|9150332000|  11772.5|               Loans|550240| Federal Fund - VHCB|90630|\n",
      "+--------------+--------------------+------+-------------+--------------------+------------+-----+--------------------+----------+---------+--------------------+------+--------------------+-----+\n",
      "only showing top 20 rows\n",
      "\n"
     ]
    }
   ],
   "source": [
    "df.show()"
   ]
  },
  {
   "cell_type": "code",
   "execution_count": 10,
   "id": "66d488d8",
   "metadata": {},
   "outputs": [
    {
     "name": "stdout",
     "output_type": "stream",
     "text": [
      "+--------------+--------------------+---------+-----+\n",
      "|Quarter Ending|          Department|   Amount|State|\n",
      "+--------------+--------------------+---------+-----+\n",
      "|    12/31/2019|Vt Housing & Cons...|1075000.0|   VT|\n",
      "|    12/31/2019|Vt Housing & Cons...|   4612.5|   VT|\n",
      "|    12/31/2019|Vt Housing & Cons...|112916.67|   VT|\n",
      "|    12/31/2019|Vt Housing & Cons...| 17152.74|   VT|\n",
      "|    12/31/2019|Vt Housing & Cons...|   4850.0|   VT|\n",
      "|    12/31/2019|Vt Housing & Cons...|   1755.0|   VT|\n",
      "|    12/31/2019|Vt Housing & Cons...| 26837.54|   VT|\n",
      "|    12/31/2019|Vt Housing & Cons...| 30396.35|   VT|\n",
      "|    12/31/2019|Vt Housing & Cons...|  5430.17|   VT|\n",
      "|    12/31/2019|Vt Housing & Cons...|   1000.0|   VT|\n",
      "+--------------+--------------------+---------+-----+\n",
      "\n"
     ]
    }
   ],
   "source": [
    "df.createOrReplaceTempView('VermontVendor')\n",
    "\n",
    "q = '''SELECT `Quarter Ending`, Department, Amount, State FROM VermontVendor LIMIT 10'''\n",
    "\n",
    "def qry(q):\n",
    "    return spark.sql(q).show()\n",
    "\n",
    "qry(q)"
   ]
  },
  {
   "cell_type": "code",
   "execution_count": 11,
   "id": "0c1bf658",
   "metadata": {},
   "outputs": [
    {
     "name": "stdout",
     "output_type": "stream",
     "text": [
      "+--------------+--------------------+---------+-----+\n",
      "|Quarter Ending|          Department|   Amount|State|\n",
      "+--------------+--------------------+---------+-----+\n",
      "|    12/31/2019|Vt Housing & Cons...|1075000.0|   VT|\n",
      "|    12/31/2019|Vt Housing & Cons...|   4612.5|   VT|\n",
      "|    12/31/2019|Vt Housing & Cons...|112916.67|   VT|\n",
      "|    12/31/2019|Vt Housing & Cons...| 17152.74|   VT|\n",
      "|    12/31/2019|Vt Housing & Cons...|   4850.0|   VT|\n",
      "|    12/31/2019|Vt Housing & Cons...|   1755.0|   VT|\n",
      "|    12/31/2019|Vt Housing & Cons...| 26837.54|   VT|\n",
      "|    12/31/2019|Vt Housing & Cons...| 30396.35|   VT|\n",
      "|    12/31/2019|Vt Housing & Cons...|  5430.17|   VT|\n",
      "|    12/31/2019|Vt Housing & Cons...|   1000.0|   VT|\n",
      "+--------------+--------------------+---------+-----+\n",
      "only showing top 10 rows\n",
      "\n"
     ]
    }
   ],
   "source": [
    "df.select('Quarter Ending', 'Department', 'Amount', 'State').show(10)"
   ]
  },
  {
   "cell_type": "code",
   "execution_count": 12,
   "id": "482ba603",
   "metadata": {},
   "outputs": [
    {
     "name": "stdout",
     "output_type": "stream",
     "text": [
      "+--------------+----------+--------+-----+\n",
      "|Quarter Ending|Department|  Amount|State|\n",
      "+--------------+----------+--------+-----+\n",
      "|    12/31/2012| Education|  302.12|   VT|\n",
      "|    12/31/2012| Education|531548.0|   VT|\n",
      "|    12/31/2012| Education| 14082.0|   VT|\n",
      "|    12/31/2012| Education| 5337.66|   VT|\n",
      "|    12/31/2012| Education|164436.0|   VT|\n",
      "|    12/31/2012| Education|  8295.0|   VT|\n",
      "|    12/31/2012| Education|   646.5|   VT|\n",
      "|    12/31/2012| Education|    29.9|   VT|\n",
      "|    12/31/2012| Education| 34159.0|   VT|\n",
      "|    12/31/2012| Education|  2626.0|   VT|\n",
      "+--------------+----------+--------+-----+\n",
      "\n"
     ]
    }
   ],
   "source": [
    "spark.sql(\n",
    "'''\n",
    "SELECT `Quarter Ending`, Department, Amount, State FROM VermontVendor \n",
    "WHERE Department = 'Education'\n",
    "LIMIT 10\n",
    "'''\n",
    ").show()"
   ]
  },
  {
   "cell_type": "code",
   "execution_count": 13,
   "id": "c0c96f35",
   "metadata": {},
   "outputs": [
    {
     "name": "stdout",
     "output_type": "stream",
     "text": [
      "+--------------+----------+--------+-----+\n",
      "|Quarter Ending|Department|  Amount|State|\n",
      "+--------------+----------+--------+-----+\n",
      "|    12/31/2012| Education|  302.12|   VT|\n",
      "|    12/31/2012| Education|531548.0|   VT|\n",
      "|    12/31/2012| Education| 14082.0|   VT|\n",
      "|    12/31/2012| Education| 5337.66|   VT|\n",
      "|    12/31/2012| Education|164436.0|   VT|\n",
      "|    12/31/2012| Education|  8295.0|   VT|\n",
      "|    12/31/2012| Education|   646.5|   VT|\n",
      "|    12/31/2012| Education|    29.9|   VT|\n",
      "|    12/31/2012| Education| 34159.0|   VT|\n",
      "|    12/31/2012| Education|  2626.0|   VT|\n",
      "+--------------+----------+--------+-----+\n",
      "only showing top 10 rows\n",
      "\n"
     ]
    }
   ],
   "source": [
    "df.select('Quarter Ending', 'Department', 'Amount', 'State').filter(df['Department'] == 'Education').show(10)"
   ]
  },
  {
   "cell_type": "code",
   "execution_count": 14,
   "id": "6a0c13cc",
   "metadata": {},
   "outputs": [
    {
     "data": {
      "image/png": "[encoded data removed]",
      "text/plain": [
       "<Figure size 720x432 with 1 Axes>"
      ]
     },
     "metadata": {
      "needs_background": "light"
     },
     "output_type": "display_data"
    }
   ],
   "source": [
    "plot_df = spark.sql(\n",
    "'''\n",
    "SELECT Department, SUM(Amount) as Total FROM VermontVendor \n",
    "GROUP BY Department\n",
    "ORDER BY Total DESC\n",
    "LIMIT 10\n",
    "'''\n",
    ").toPandas()\n",
    "\n",
    "fig,ax = plt.subplots(1,1,figsize=(10,6))\n",
    "plot_df.plot(x = 'Department', y = 'Total', kind = 'barh', color = 'C0', ax = ax, legend = False)\n",
    "ax.set_xlabel('Department', size = 16)\n",
    "ax.set_ylabel('Total', size = 16)\n",
    "plt.savefig('barplot.png')\n",
    "plt.show()"
   ]
  },
  {
   "cell_type": "code",
   "execution_count": 15,
   "id": "5ea86581",
   "metadata": {},
   "outputs": [
    {
     "name": "stderr",
     "output_type": "stream",
     "text": [
      "/opt/conda/lib/python3.9/site-packages/seaborn/distributions.py:2557: FutureWarning: `distplot` is a deprecated function and will be removed in a future version. Please adapt your code to use either `displot` (a figure-level function with similar flexibility) or `histplot` (an axes-level function for histograms).\n",
      "  warnings.warn(msg, FutureWarning)\n"
     ]
    },
    {
     "data": {
      "image/png": "[encoded data removed]",
      "text/plain": [
       "<Figure size 720x432 with 1 Axes>"
      ]
     },
     "metadata": {
      "needs_background": "light"
     },
     "output_type": "display_data"
    }
   ],
   "source": [
    "import numpy as np\n",
    "import seaborn as sns\n",
    "plot_df2 = spark.sql(\n",
    "    '''\n",
    "    SELECT Department, SUM(Amount) as Total FROM VermontVendor \n",
    "    GROUP BY Department\n",
    "    '''\n",
    "    ).toPandas()\n",
    "\n",
    "plt.figure(figsize = (10,6))\n",
    "sns.distplot(np.log(plot_df2['Total']))\n",
    "plt.title('Histogram of Log Totals for all Departments in Dataset', size = 16)\n",
    "plt.ylabel('Density', size = 16)\n",
    "plt.xlabel('Log Total', size = 16)\n",
    "plt.savefig('distplot.png')\n",
    "plt.show()"
   ]
  }
 ],
 "metadata": {
  "kernelspec": {
   "display_name": "Python 3",
   "language": "python",
   "name": "python3"
  },
  "language_info": {
   "codemirror_mode": {
    "name": "ipython",
    "version": 3
   },
   "file_extension": ".py",
   "mimetype": "text/x-python",
   "name": "python",
   "nbconvert_exporter": "python",
   "pygments_lexer": "ipython3",
   "version": "3.9.2"
  }
 },
 "nbformat": 4,
 "nbformat_minor": 5
}
